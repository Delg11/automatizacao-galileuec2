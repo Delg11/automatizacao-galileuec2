{
 "cells": [
  {
   "cell_type": "markdown",
   "id": "03c984fa",
   "metadata": {},
   "source": [
    "### Automatização de preenchimento de formulário com Python.\n",
    "\n",
    "Automatizar a escrita de notas é uma tarefa que pode ser bastante útil para professores e educadores em geral. Com Python, é possível criar um programa capaz de acessar um sistema de notas, ler e processar informações, e finalmente escrever as notas dos alunos em um documento ou planilha.\n",
    "\n",
    "Para isso, é necessário ter conhecimento de programação em Python, além de ter acesso ao sistema de notas que se deseja automatizar. O Selenium é uma biblioteca Python muito utilizada para automatizar tarefas em navegadores web, o que a torna uma excelente opção para este tipo de projeto.\n",
    "\n",
    "Através da utilização do Selenium, é possível automatizar a navegação no site de notas, realizar login e busca pelos alunos, ler informações, como notas, e até mesmo escrever as notas em um arquivo. Com isso, é possível economizar tempo e reduzir erros humanos, tornando o processo de escrita de notas mais eficiente.\n",
    "\n",
    "A seguir, veremos um exemplo prático de como automatizar a escrita de notas utilizando o Selenium em Python."
   ]
  },
  {
   "cell_type": "code",
   "execution_count": 1,
   "id": "3d93cc48",
   "metadata": {},
   "outputs": [],
   "source": [
    "# selenium\n",
    "\n",
    "# import webdriver\n",
    "from selenium import webdriver\n",
    "from selenium.webdriver.common.by import By\n",
    "\n",
    "\n",
    "# Cria um Chrome\n",
    "driver = webdriver.Chrome()\n",
    "# Estou usando o Chrome, mas podia ser firefox ou outro\n",
    "\n",
    "# Entra no site\n",
    "driver.get(\"https://ec2galileu.com.br/professor\")\n"
   ]
  },
  {
   "cell_type": "markdown",
   "id": "5c076943",
   "metadata": {},
   "source": [
    "Tenha certeza de que o site carregou para executar o próximo passo"
   ]
  },
  {
   "cell_type": "code",
   "execution_count": 2,
   "id": "5d047e44",
   "metadata": {},
   "outputs": [],
   "source": [
    "# encontra o campo de usuário e preenche com o nome de usuário\n",
    "user_input = driver.find_element(By.ID ,\"identity\")\n",
    "user_input.send_keys(\"usuário\")\n",
    "\n",
    "# encontra o campo de senha e preenche com a senha\n",
    "password_input = driver.find_element(By.ID ,\"credential\")\n",
    "password_input.send_keys('senha')\n",
    "\n",
    "# encontra o botão de login e clica nele\n",
    "login_button = driver.find_element(By.ID ,\"btn-acessar\")\n",
    "login_button.click()\n"
   ]
  },
  {
   "cell_type": "code",
   "execution_count": 3,
   "id": "eb31cc5a",
   "metadata": {},
   "outputs": [],
   "source": [
    "# Entra no registro de notas\n",
    "driver.get(\"https://ec2galileu.com.br/professor/registro-nota\")\n",
    "# Daria pra ter feito o Selenium clicar no botão \"Registro de nota\", mas assim é mais rápido."
   ]
  },
  {
   "cell_type": "markdown",
   "id": "fa7638fc",
   "metadata": {},
   "source": [
    "## Automação da seleção de curso, turma e período escolar com Selenium\n",
    "\n",
    "Essa parte do código usa a biblioteca Selenium para automatizar a seleção do curso, turma e período escolar no site. É possível selecionar o curso e turma usando o valor do atributo `value` do elemento HTML `option` correspondente. A seleção do período escolar é feita da mesma forma.\n",
    "\n",
    "O comando `time.sleep(5)` é usado para aguardar 5 segundos após cada seleção para permitir que a página seja carregada corretamente antes de prosseguir.\n"
   ]
  },
  {
   "cell_type": "code",
   "execution_count": 137,
   "id": "ea7cd11a",
   "metadata": {},
   "outputs": [],
   "source": [
    "import time\n",
    "from selenium.webdriver.support.ui import Select\n",
    "# Seleciona entre Fundamental ou Médio\n",
    "Select(driver.find_element(By.ID ,\"id_curso\")).select_by_value('3533')\n",
    "time.sleep(5)  # aguarda 5 segundos\n",
    "# 3533 é Fund2 e 3532 é Médio\n",
    "\n",
    "# Seleciona a turma\n",
    "Select(driver.find_element(By.ID ,\"id_turma\")).select_by_value('30054424')\n",
    "time.sleep(5)  # aguarda 5 segundos\n",
    "## Fund\n",
    "# value='30054424' 2023 / 6º ANO A-6º ANO-09/01/2023 a 15/12/2023\t \n",
    "# value='30054425' 2023 / 6º ANO B-6º ANO-09/01/2023 a 15/12/2023\t \n",
    "# value='30054426' 2023 / 7º ANO A-7º ANO-09/01/2023 a 15/12/2023\t \n",
    "# value='30054427' 2023 / 7º ANO B-7º ANO-09/01/2023 a 15/12/2023\n",
    "## Médio\n",
    "# value='30054434' 2023 / 2ª SERIE A -2ª SÉRIE-09/01/2023 a 15/12/2023\t \n",
    "# value='30054435' 2023 / 3ª SERIE -3ª SÉRIE-09/01/2023 a 15/12/2023\t \n",
    "# value='30054436' 2023 / 2ª SERIE B-2ª SÉRIE-09/01/2023 a 15/12/2023\n",
    "\n",
    "# # Seleciona a Disciplina\n",
    "# Select(driver.find_element(By.ID ,\"id_disciplina\")).select_by_value('14926')\n",
    "# time.sleep(5)  # aguarda 5 segundos\n",
    "# # value='14926' MATEMÁTICA\n",
    "\n",
    "# # Seleciona o professor\n",
    "# Select(driver.find_element(By.ID ,\"id_funcionario\")).select_by_value('xxxxxxx')\n",
    "# time.sleep(5)  # aguarda 5 segundos\n",
    "\n",
    "# Seleciona o período\n",
    "Select(driver.find_element(By.ID ,\"nr_periodo\")).select_by_value('1')\n",
    "time.sleep(5)  # aguarda 5 segundos\n",
    "# value='1'para 1º Trimestre\n",
    "# value='2'para 2º Trimestre \n",
    "# value='3'para 3º Trimestre\n"
   ]
  },
  {
   "cell_type": "markdown",
   "id": "43dcfac7",
   "metadata": {},
   "source": [
    "## Obtendo os dados dos alunos\n",
    "\n",
    "Para obter os dados dos alunos, utilizamos a biblioteca Selenium para fazer a raspagem dos dados da tabela de faltas na página. Primeiro, encontramos o número de alunos em cada turma usando o método `find_elements()` do Selenium para encontrar todos os elementos com o ID `id-tabela-faltas`. Em seguida, usamos o método `find_elements()` novamente para encontrar todos os elementos `span` com a classe `nomeAluno` dentro de cada tabela de faltas e extrair os nomes dos alunos. Para isso, utilizamos um loop para iterar sobre todos os elementos encontrados e adicionamos os nomes dos alunos em uma lista.\n",
    "\n",
    "O código utilizado para obter os nomes dos alunos é mostrado abaixo:"
   ]
  },
  {
   "cell_type": "code",
   "execution_count": 139,
   "id": "13ea6d4b",
   "metadata": {},
   "outputs": [],
   "source": [
    "# Encontra o número de alunos em cada turma\n",
    "alunos = driver.find_elements(By.ID ,\"id-tabela-faltas\")\n",
    "#num_alunos = len(n_alunos)\n",
    "#print(num_turmas)\n",
    "\n",
    "# Pega o nome dos alunos\n",
    "alunes = driver.find_elements(By.CSS_SELECTOR ,\"span.nomeAluno\")\n",
    "nomes_alunos=[]\n",
    "for j in range(0, len(alunes)):\n",
    "        nome_aluno=alunes[j].text\n",
    "        nomes_alunos.append(nome_aluno)\n",
    "nomes_alunos = list(filter(None, nomes_alunos))"
   ]
  },
  {
   "cell_type": "code",
   "execution_count": 140,
   "id": "4369f5ac",
   "metadata": {},
   "outputs": [],
   "source": [
    "# Encontra a matrícula de cada aluno\n",
    "matriculas = []\n",
    "transferidos = []\n",
    "for j in range(0, len(alunos)):\n",
    "    aluno = alunos[j]\n",
    "    matricula_element = aluno.find_element(By.CSS_SELECTOR, \"[id^='vl_nota-']\")\n",
    "#     Existem alunos tranferidos, e eles tem um atributo chamado \"disabled\"\n",
    "    if matricula_element.get_attribute('disabled'):\n",
    "        matricula = matricula_element.get_attribute(\"id\").split(\"-\")[-1]\n",
    "        transferidos.append(matricula)\n",
    "    else:\n",
    "        matricula = matricula_element.get_attribute(\"id\").split(\"-\")[-1]\n",
    "        matriculas.append(matricula)"
   ]
  },
  {
   "cell_type": "markdown",
   "id": "d7ee3179",
   "metadata": {},
   "source": [
    "## Processamento de notas de alunos com Pandas em Python\n",
    "\n",
    "\n",
    "Este código usa a biblioteca Pandas para ler um arquivo Excel contendo notas de alunos. Primeiro, a função read_excel() é usada para ler o arquivo e armazenar os dados na variável notas. Em seguida, a função dropna() é usada para remover todas as linhas vazias da tabela.\n",
    "\n",
    "Depois disso, a variável notas é convertida em uma lista usando a função tolist(). Em seguida, o código usa dois loops for para percorrer cada elemento da lista notas. Dentro do loop, o código converte as notas de float para str e substitui o ponto decimal por vírgula.\n",
    "\n",
    "Esse código é útil para quem precisa trabalhar com dados de arquivos Excel no Python, e a biblioteca Pandas é uma das mais populares e úteis para essa tarefa.\n",
    "\n",
    "\n",
    "Esse arquivo de Excel é baseado no arquivo gerado pelo próprio site Galileu. Assim fica mais fácil de manter a ordem das informações, pois até o momento o código não confere o nome do aluno em que ele está escrevendo a nota.\n"
   ]
  },
  {
   "cell_type": "code",
   "execution_count": 151,
   "id": "c89c4358",
   "metadata": {},
   "outputs": [],
   "source": [
    "import pandas as pd\n",
    "\n",
    "# Lê o arquivo Excel\n",
    "#####################################################\n",
    "# Sobre o arquivo de Excel:                         #\n",
    "#####################################################\n",
    "# Baixe a planilha do site Galileu, edite ele em    #\n",
    "# seu computador, com as notas dos alunos, e salve  #\n",
    "# em formato .xlsx                                  #\n",
    "#####################################################\n",
    "notas = pd.read_excel('D:/Users/.../Downloads/NOTAS.xlsx', sheet_name=0, header=None, skiprows=15)\n",
    "\n",
    "# Remove todas as linhas vazias\n",
    "notas.dropna(how='all', inplace=True)\n",
    "\n",
    "# Converte as notas para uma lista\n",
    "notas = notas.values.tolist()\n",
    "\n",
    "# Acessa a nota do aluno i na posição j\n",
    "i = 0\n",
    "j = 0\n",
    "nota = notas[i][j]\n",
    "\n",
    "# Converte as notas para ponto flutuante e depois para string com vírgula\n",
    "for i in range(len(notas)):\n",
    "    for j in range(4, 9):\n",
    "        notas[i][j] = float(notas[i][j])\n",
    "        notas[i][j] = str(notas[i][j]).replace('.', ',')\n"
   ]
  },
  {
   "cell_type": "code",
   "execution_count": 149,
   "id": "8f4a8dd0",
   "metadata": {},
   "outputs": [],
   "source": [
    "# Associar as notas com as caixas de texto correspondentes no formulário do Selenium\n",
    "\n",
    "\n",
    "for i, matricula in enumerate(matriculas):\n",
    "       # time.sleep(1)  # aguarda 5 segundos\n",
    "        # Verificacao Parcial:\tvl_nota-31642549-matricula\n",
    "        id_caixa_texto = f\"vl_nota-31642549-{matricula}\"\n",
    "        caixa_texto = driver.find_element(By.ID ,id_caixa_texto)        \n",
    "        caixa_texto.clear()\n",
    "        caixa_texto.send_keys(str(notas[i][4]))\n",
    "        # Atividade 1:\tvl_nota-31642551-matricula\n",
    "        id_caixa_texto = f\"vl_nota-31642551-{matricula}\"\n",
    "        caixa_texto = driver.find_element(By.ID ,id_caixa_texto)        \n",
    "        caixa_texto.clear()\n",
    "        caixa_texto.send_keys(str(notas[i][5]))\n",
    "        # Atividade 2:\tvl_nota-31642552-matricula\n",
    "        id_caixa_texto = f\"vl_nota-31642552-{matricula}\"\n",
    "        caixa_texto = driver.find_element(By.ID ,id_caixa_texto)        \n",
    "        caixa_texto.clear()\n",
    "        caixa_texto.send_keys(str(notas[i][6]))\n",
    "        # Atividade 3:\tvl_nota-31642553-matricula\n",
    "        id_caixa_texto = f\"vl_nota-31642553-{matricula}\"\n",
    "        caixa_texto = driver.find_element(By.ID ,id_caixa_texto)        \n",
    "        caixa_texto.clear()\n",
    "        caixa_texto.send_keys(str(notas[i][7]))\n",
    "        # Atividade 4:\tvl_nota-31642554-matricula\n",
    "        id_caixa_texto = f\"vl_nota-31642554-{matricula}\"\n",
    "        caixa_texto = driver.find_element(By.ID ,id_caixa_texto)        \n",
    "        caixa_texto.clear()\n",
    "        caixa_texto.send_keys(str(notas[i][8]))\n",
    "\n",
    "# Exemplo de codigos para o 6A, vai ser diferente para cada turma\n",
    "# Verificacao Global:\tvl_nota-31642550-matricula\n",
    "# Verificacao Parcial:\tvl_nota-31642549-matricula\n",
    "# Atividade 1:\tvl_nota-31642551-matricula\n",
    "# Atividade 2:\tvl_nota-31642552-matricula\n",
    "# Atividade 3:\tvl_nota-31642553-matricula\n",
    "# Atividade 4:\tvl_nota-31642554-matricula"
   ]
  }
 ],
 "metadata": {
  "kernelspec": {
   "display_name": "Python 3 (ipykernel)",
   "language": "python",
   "name": "python3"
  },
  "language_info": {
   "codemirror_mode": {
    "name": "ipython",
    "version": 3
   },
   "file_extension": ".py",
   "mimetype": "text/x-python",
   "name": "python",
   "nbconvert_exporter": "python",
   "pygments_lexer": "ipython3",
   "version": "3.9.13"
  }
 },
 "nbformat": 4,
 "nbformat_minor": 5
}
